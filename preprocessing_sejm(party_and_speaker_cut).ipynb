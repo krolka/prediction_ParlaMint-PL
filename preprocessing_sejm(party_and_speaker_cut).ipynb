{
  "cells": [
    {
      "cell_type": "code",
      "execution_count": null,
      "metadata": {
        "colab": {
          "base_uri": "https://localhost:8080/"
        },
        "id": "IY_mktIc4TDL",
        "outputId": "f9a7d286-29ec-4ec2-fea6-8a79c4f87f7f"
      },
      "outputs": [
        {
          "output_type": "stream",
          "name": "stdout",
          "text": [
            "\u001b[38;5;2m✔ Download and installation successful\u001b[0m\n",
            "You can now load the package via spacy.load('pl_core_news_sm')\n"
          ]
        }
      ],
      "source": [
        "import pandas as pd\n",
        "import numpy as np\n",
        "import os\n",
        "import spacy\n",
        "from collections import Counter\n",
        "import re\n",
        "spacy.cli.download('pl_core_news_sm')\n",
        "nlp = spacy.load('pl_core_news_sm')"
      ]
    },
    {
      "cell_type": "code",
      "execution_count": null,
      "metadata": {
        "colab": {
          "base_uri": "https://localhost:8080/"
        },
        "id": "jseRLXcN4TDN",
        "outputId": "c6238b17-158f-4fd1-a325-96e98150137f"
      },
      "outputs": [
        {
          "output_type": "stream",
          "name": "stdout",
          "text": [
            "Drive already mounted at /content/drive; to attempt to forcibly remount, call drive.mount(\"/content/drive\", force_remount=True).\n"
          ]
        }
      ],
      "source": [
        "from google.colab import drive\n",
        "drive.mount('/content/drive')"
      ]
    },
    {
      "cell_type": "code",
      "source": [
        "path = ''\n",
        "files = os.listdir(path)\n",
        "print(files)"
      ],
      "metadata": {
        "id": "M501OmkjnGoD"
      },
      "execution_count": null,
      "outputs": []
    },
    {
      "cell_type": "code",
      "source": [
        "data = pd.DataFrame()\n",
        "for f in files:\n",
        "  df = pd.read_csv(path + f)\n",
        "  data = pd.concat([data, df])\n"
      ],
      "metadata": {
        "id": "78U8u3wHxwgg"
      },
      "execution_count": null,
      "outputs": []
    },
    {
      "cell_type": "markdown",
      "metadata": {
        "id": "DccrxwdkCv7R"
      },
      "source": [
        "removing columns"
      ]
    },
    {
      "cell_type": "code",
      "execution_count": null,
      "metadata": {
        "id": "zl8sFakhCwLF"
      },
      "outputs": [],
      "source": [
        "data = data.drop(['From','To','House','Meeting','Sitting','Title','Term',\t'Session','Agenda'], axis = 1)"
      ]
    },
    {
      "cell_type": "markdown",
      "metadata": {
        "id": "2htMHbUH4TDQ"
      },
      "source": [
        "no MP, Chairperson and no party speakers"
      ]
    },
    {
      "cell_type": "code",
      "execution_count": null,
      "metadata": {
        "id": "4X3lK4uMDoQs"
      },
      "outputs": [],
      "source": [
        "data = data[data.Speaker_type != 'notMP']\n",
        "data = data[data.Speaker_role != 'Chairperson']\n",
        "data = data.dropna(subset=['Speaker_party'])"
      ]
    },
    {
      "cell_type": "code",
      "execution_count": null,
      "metadata": {
        "id": "mZFnyQS7GgcT"
      },
      "outputs": [],
      "source": [
        "data = data.drop(['Speaker_role','Speaker_type', 'Speaker_party_name'], axis = 1)"
      ]
    },
    {
      "cell_type": "code",
      "source": [
        "for index, row in data.iterrows():\n",
        "  if 'Ślubuję' in row[7]:\n",
        "   data = data.drop(data.index[index])"
      ],
      "metadata": {
        "id": "rFrRnzFjm_Tr"
      },
      "execution_count": null,
      "outputs": []
    },
    {
      "cell_type": "code",
      "execution_count": null,
      "metadata": {
        "id": "9wcohyiZr92M"
      },
      "outputs": [],
      "source": [
        "texts = []\n",
        "no_sents = []\n",
        "for speech in data['speech']:\n",
        "  text = re.sub(r'\\[\\[.*?\\]\\]', '', speech.lower())\n",
        "  text = re.sub(r'[^\\w\\s]', '', text)\n",
        "  text = re.sub(r'\\d+', '', text)\n",
        "\n",
        "  texts.append(text)\n",
        "  text = nlp(text)\n"
      ]
    },
    {
      "cell_type": "code",
      "execution_count": null,
      "metadata": {
        "id": "3BrbsHIw-dYb"
      },
      "outputs": [],
      "source": [
        "data['processed_speech'] = texts"
      ]
    }
  ],
  "metadata": {
    "colab": {
      "provenance": []
    },
    "kernelspec": {
      "display_name": "Python 3",
      "language": "python",
      "name": "python3"
    },
    "language_info": {
      "codemirror_mode": {
        "name": "ipython",
        "version": 3
      },
      "file_extension": ".py",
      "mimetype": "text/x-python",
      "name": "python",
      "nbconvert_exporter": "python",
      "pygments_lexer": "ipython3",
      "version": "3.8.8"
    }
  },
  "nbformat": 4,
  "nbformat_minor": 0
}