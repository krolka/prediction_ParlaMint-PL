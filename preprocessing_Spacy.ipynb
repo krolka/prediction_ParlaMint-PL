{
  "cells": [
    {
      "cell_type": "code",
      "execution_count": null,
      "metadata": {
        "colab": {
          "base_uri": "https://localhost:8080/"
        },
        "id": "HE2aRHL2JeAk",
        "outputId": "f3d47154-2bdd-4ce2-f3d1-883e8728ba71"
      },
      "outputs": [
        {
          "output_type": "stream",
          "name": "stdout",
          "text": [
            "\u001b[38;5;2m✔ Download and installation successful\u001b[0m\n",
            "You can now load the package via spacy.load('pl_core_news_lg')\n"
          ]
        }
      ],
      "source": [
        "import pandas as pd\n",
        "import numpy as np\n",
        "import os\n",
        "import spacy\n",
        "from collections import Counter\n",
        "from numpy import save\n",
        "import re\n",
        "spacy.cli.download('pl_core_news_lg')\n",
        "nlp = spacy.load('pl_core_news_lg')"
      ]
    },
    {
      "cell_type": "markdown",
      "metadata": {
        "id": "-JwQ0y8z8czt"
      },
      "source": [
        "# loading the data"
      ]
    },
    {
      "cell_type": "code",
      "execution_count": null,
      "metadata": {
        "colab": {
          "base_uri": "https://localhost:8080/"
        },
        "id": "8H0TAHMsd9_z",
        "outputId": "09eaa254-1f72-4a67-a3f4-4fc0e4db7dae"
      },
      "outputs": [
        {
          "output_type": "stream",
          "name": "stdout",
          "text": [
            "Drive already mounted at /content/drive; to attempt to forcibly remount, call drive.mount(\"/content/drive\", force_remount=True).\n"
          ]
        }
      ],
      "source": [
        "from google.colab import drive\n",
        "drive.mount('/content/drive')"
      ]
    },
    {
      "cell_type": "code",
      "execution_count": null,
      "metadata": {
        "id": "wcLmqmdneAPY"
      },
      "outputs": [],
      "source": [
        "path = './drive/MyDrive/Master/thesis_codes/'"
      ]
    },
    {
      "cell_type": "code",
      "execution_count": null,
      "metadata": {
        "id": "Sh157_AQPFjN"
      },
      "outputs": [],
      "source": [
        "data = pd.read_csv(path+'data_sejm.csv')"
      ]
    },
    {
      "cell_type": "code",
      "execution_count": null,
      "metadata": {
        "id": "DOfCCaBJLFQB"
      },
      "outputs": [],
      "source": [
        "def remove_most_common(x):\n",
        "\n",
        "  pos_remove = ['INTERP', 'INTERJ', 'SYM', 'NUM', '_SP', 'romandig', 'NUMCOL', 'XXX', 'BREV']\n",
        "  tokens_list = []\n",
        "  lemmas_list = []\n",
        "  for row in x:\n",
        "    text = re.sub(r'\\[\\[.*?\\]\\]', '', row.lower())\n",
        "    text = re.sub(r'\\d+', '', text)\n",
        "    text = nlp(text)\n",
        "\n",
        "    tokens_list.append([token.text for token in text if token.tag_ not in pos_remove])\n",
        "    lemmas_list.append([token.lemma_ for token in text if token.tag_ not in pos_remove])\n",
        "\n",
        "  return tokens_list, lemmas_list\n"
      ]
    },
    {
      "cell_type": "code",
      "execution_count": null,
      "metadata": {
        "id": "moaODjh5IuQH"
      },
      "outputs": [],
      "source": [
        "fixed_tokens, fixed_lemmas = remove_most_common(data['processed_speech'])"
      ]
    },
    {
      "cell_type": "code",
      "source": [
        "data['tokens'] = fixed_tokens\n",
        "data['lemmas'] = fixed_lemmas"
      ],
      "metadata": {
        "id": "hy77OqEimkKm"
      },
      "execution_count": null,
      "outputs": []
    },
    {
      "cell_type": "code",
      "source": [
        "tokens_np = np.array(fixed_tokens, dtype = list)\n",
        "lemmas_np = np.array(fixed_lemmas, dtype = list)"
      ],
      "metadata": {
        "id": "61ASQUaFqXZr"
      },
      "execution_count": null,
      "outputs": []
    },
    {
      "cell_type": "code",
      "source": [
        "save('tokens_sejm_spacy.npy', tokens_np)\n",
        "save('lemmas_sejm_spacy.npy', lemmas_np)"
      ],
      "metadata": {
        "id": "JM3YGTrySZop"
      },
      "execution_count": null,
      "outputs": []
    }
  ],
  "metadata": {
    "colab": {
      "provenance": [],
      "machine_shape": "hm"
    },
    "kernelspec": {
      "display_name": "Python 3",
      "name": "python3"
    },
    "language_info": {
      "name": "python"
    }
  },
  "nbformat": 4,
  "nbformat_minor": 0
}